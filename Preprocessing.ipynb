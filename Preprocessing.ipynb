{
 "cells": [
  {
   "cell_type": "code",
   "execution_count": 1,
   "id": "2780cbc2",
   "metadata": {},
   "outputs": [],
   "source": [
    "import nltk\n",
    "\n",
    "para = \"\"\"Dr. A P J Abdul Kalam was born to a poor Tamil Muslim family. He lived with his family in the temple city of Tamilnadu, Rameswaram, where his father, Jainulabdeen, had a boat and was an imam of a local mosque. At the same time, his mother, Ashiamma, was a housewife. Kalam had four brothers and one sister in his family, from which he was the youngest. Kalam's ancestors were wealthy traders and landowners and had vast land and property tracts. But with time, their business of ferrying pilgrims and trading groceries suffered huge losses due to the Pamban Bridge's opening. As a result, Kalam's family had become inadequate and struggled hard to make a living. At a tender age, Kalam had to sell newspapers to supplement his family income.\"\"\""
   ]
  },
  {
   "cell_type": "code",
   "execution_count": 20,
   "id": "8993df9e",
   "metadata": {},
   "outputs": [],
   "source": [
    "sentences = nltk.sent_tokenize(para)"
   ]
  },
  {
   "cell_type": "code",
   "execution_count": 8,
   "id": "c516da96",
   "metadata": {},
   "outputs": [],
   "source": [
    "from nltk.stem import PorterStemmer\n",
    "from nltk.corpus import stopwords"
   ]
  },
  {
   "cell_type": "code",
   "execution_count": 12,
   "id": "b745b11a",
   "metadata": {
    "collapsed": true
   },
   "outputs": [
    {
     "data": {
      "text/plain": [
       "['i',\n",
       " 'me',\n",
       " 'my',\n",
       " 'myself',\n",
       " 'we',\n",
       " 'our',\n",
       " 'ours',\n",
       " 'ourselves',\n",
       " 'you',\n",
       " \"you're\",\n",
       " \"you've\",\n",
       " \"you'll\",\n",
       " \"you'd\",\n",
       " 'your',\n",
       " 'yours',\n",
       " 'yourself',\n",
       " 'yourselves',\n",
       " 'he',\n",
       " 'him',\n",
       " 'his',\n",
       " 'himself',\n",
       " 'she',\n",
       " \"she's\",\n",
       " 'her',\n",
       " 'hers',\n",
       " 'herself',\n",
       " 'it',\n",
       " \"it's\",\n",
       " 'its',\n",
       " 'itself',\n",
       " 'they',\n",
       " 'them',\n",
       " 'their',\n",
       " 'theirs',\n",
       " 'themselves',\n",
       " 'what',\n",
       " 'which',\n",
       " 'who',\n",
       " 'whom',\n",
       " 'this',\n",
       " 'that',\n",
       " \"that'll\",\n",
       " 'these',\n",
       " 'those',\n",
       " 'am',\n",
       " 'is',\n",
       " 'are',\n",
       " 'was',\n",
       " 'were',\n",
       " 'be',\n",
       " 'been',\n",
       " 'being',\n",
       " 'have',\n",
       " 'has',\n",
       " 'had',\n",
       " 'having',\n",
       " 'do',\n",
       " 'does',\n",
       " 'did',\n",
       " 'doing',\n",
       " 'a',\n",
       " 'an',\n",
       " 'the',\n",
       " 'and',\n",
       " 'but',\n",
       " 'if',\n",
       " 'or',\n",
       " 'because',\n",
       " 'as',\n",
       " 'until',\n",
       " 'while',\n",
       " 'of',\n",
       " 'at',\n",
       " 'by',\n",
       " 'for',\n",
       " 'with',\n",
       " 'about',\n",
       " 'against',\n",
       " 'between',\n",
       " 'into',\n",
       " 'through',\n",
       " 'during',\n",
       " 'before',\n",
       " 'after',\n",
       " 'above',\n",
       " 'below',\n",
       " 'to',\n",
       " 'from',\n",
       " 'up',\n",
       " 'down',\n",
       " 'in',\n",
       " 'out',\n",
       " 'on',\n",
       " 'off',\n",
       " 'over',\n",
       " 'under',\n",
       " 'again',\n",
       " 'further',\n",
       " 'then',\n",
       " 'once',\n",
       " 'here',\n",
       " 'there',\n",
       " 'when',\n",
       " 'where',\n",
       " 'why',\n",
       " 'how',\n",
       " 'all',\n",
       " 'any',\n",
       " 'both',\n",
       " 'each',\n",
       " 'few',\n",
       " 'more',\n",
       " 'most',\n",
       " 'other',\n",
       " 'some',\n",
       " 'such',\n",
       " 'no',\n",
       " 'nor',\n",
       " 'not',\n",
       " 'only',\n",
       " 'own',\n",
       " 'same',\n",
       " 'so',\n",
       " 'than',\n",
       " 'too',\n",
       " 'very',\n",
       " 's',\n",
       " 't',\n",
       " 'can',\n",
       " 'will',\n",
       " 'just',\n",
       " 'don',\n",
       " \"don't\",\n",
       " 'should',\n",
       " \"should've\",\n",
       " 'now',\n",
       " 'd',\n",
       " 'll',\n",
       " 'm',\n",
       " 'o',\n",
       " 're',\n",
       " 've',\n",
       " 'y',\n",
       " 'ain',\n",
       " 'aren',\n",
       " \"aren't\",\n",
       " 'couldn',\n",
       " \"couldn't\",\n",
       " 'didn',\n",
       " \"didn't\",\n",
       " 'doesn',\n",
       " \"doesn't\",\n",
       " 'hadn',\n",
       " \"hadn't\",\n",
       " 'hasn',\n",
       " \"hasn't\",\n",
       " 'haven',\n",
       " \"haven't\",\n",
       " 'isn',\n",
       " \"isn't\",\n",
       " 'ma',\n",
       " 'mightn',\n",
       " \"mightn't\",\n",
       " 'mustn',\n",
       " \"mustn't\",\n",
       " 'needn',\n",
       " \"needn't\",\n",
       " 'shan',\n",
       " \"shan't\",\n",
       " 'shouldn',\n",
       " \"shouldn't\",\n",
       " 'wasn',\n",
       " \"wasn't\",\n",
       " 'weren',\n",
       " \"weren't\",\n",
       " 'won',\n",
       " \"won't\",\n",
       " 'wouldn',\n",
       " \"wouldn't\"]"
      ]
     },
     "execution_count": 12,
     "metadata": {},
     "output_type": "execute_result"
    }
   ],
   "source": [
    "stopwords.words('English')"
   ]
  },
  {
   "cell_type": "code",
   "execution_count": 13,
   "id": "c7ff1ac8",
   "metadata": {},
   "outputs": [],
   "source": [
    "stemmer = PorterStemmer()"
   ]
  },
  {
   "cell_type": "code",
   "execution_count": 14,
   "id": "f64c7a1f",
   "metadata": {},
   "outputs": [],
   "source": [
    "for i in range(len(sentences)):\n",
    "    words = nltk.word_tokenize(sentences[i])\n",
    "    words = [stemmer.stem(word) for word in words if word not in stopwords.words('English')]\n",
    "    sentences[i] = ' '.join(words)"
   ]
  },
  {
   "cell_type": "code",
   "execution_count": 15,
   "id": "faadacb6",
   "metadata": {},
   "outputs": [
    {
     "data": {
      "text/plain": [
       "['dr. a p j abdul kalam born poor tamil muslim famili .',\n",
       " 'he live famili templ citi tamilnadu , rameswaram , father , jainulabdeen , boat imam local mosqu .',\n",
       " 'at time , mother , ashiamma , housewif .',\n",
       " 'kalam four brother one sister famili , youngest .',\n",
       " \"kalam 's ancestor wealthi trader landown vast land properti tract .\",\n",
       " \"but time , busi ferri pilgrim trade groceri suffer huge loss due pamban bridg 's open .\",\n",
       " \"as result , kalam 's famili becom inadequ struggl hard make live .\",\n",
       " 'at tender age , kalam sell newspap supplement famili incom .']"
      ]
     },
     "execution_count": 15,
     "metadata": {},
     "output_type": "execute_result"
    }
   ],
   "source": [
    "sentences\n"
   ]
  },
  {
   "cell_type": "code",
   "execution_count": 21,
   "id": "8192107b",
   "metadata": {},
   "outputs": [],
   "source": [
    "from nltk.stem import WordNetLemmatizer\n",
    "\n",
    "lemmatizer = WordNetLemmatizer()\n",
    "for i in range(len(sentences)):\n",
    "    words = nltk.word_tokenize(sentences[i])\n",
    "    words = [lemmatizer.lemmatize(word) for word in words if word not in stopwords.words('English')]\n",
    "    sentences[i] = ' '.join(words)"
   ]
  },
  {
   "cell_type": "code",
   "execution_count": 22,
   "id": "1ed77f55",
   "metadata": {},
   "outputs": [
    {
     "data": {
      "text/plain": [
       "['Dr. A P J Abdul Kalam born poor Tamil Muslim family .',\n",
       " 'He lived family temple city Tamilnadu , Rameswaram , father , Jainulabdeen , boat imam local mosque .',\n",
       " 'At time , mother , Ashiamma , housewife .',\n",
       " 'Kalam four brother one sister family , youngest .',\n",
       " \"Kalam 's ancestor wealthy trader landowner vast land property tract .\",\n",
       " \"But time , business ferrying pilgrim trading grocery suffered huge loss due Pamban Bridge 's opening .\",\n",
       " \"As result , Kalam 's family become inadequate struggled hard make living .\",\n",
       " 'At tender age , Kalam sell newspaper supplement family income .']"
      ]
     },
     "execution_count": 22,
     "metadata": {},
     "output_type": "execute_result"
    }
   ],
   "source": [
    "sentences"
   ]
  },
  {
   "cell_type": "code",
   "execution_count": 26,
   "id": "c591df1a",
   "metadata": {},
   "outputs": [],
   "source": [
    "import re\n",
    "\n",
    "sent = nltk.sent_tokenize(para)\n",
    "corpus = []\n",
    "for i in range(len(sent)):\n",
    "    review = re.sub('[^a-zA-Z]', ' ', sent[i])\n",
    "    review = review.lower()\n",
    "    review = review.split()\n",
    "    review = [lemmatizer.lemmatize(word) for word in review if word not in set(stopwords.words('english'))]\n",
    "    review = ' '.join(review)\n",
    "    corpus.append(review)\n",
    "    "
   ]
  },
  {
   "cell_type": "code",
   "execution_count": 27,
   "id": "b715b466",
   "metadata": {},
   "outputs": [
    {
     "data": {
      "text/plain": [
       "['dr p j abdul kalam born poor tamil muslim family',\n",
       " 'lived family temple city tamilnadu rameswaram father jainulabdeen boat imam local mosque',\n",
       " 'time mother ashiamma housewife',\n",
       " 'kalam four brother one sister family youngest',\n",
       " 'kalam ancestor wealthy trader landowner vast land property tract',\n",
       " 'time business ferrying pilgrim trading grocery suffered huge loss due pamban bridge opening',\n",
       " 'result kalam family become inadequate struggled hard make living',\n",
       " 'tender age kalam sell newspaper supplement family income']"
      ]
     },
     "execution_count": 27,
     "metadata": {},
     "output_type": "execute_result"
    }
   ],
   "source": [
    "corpus"
   ]
  },
  {
   "cell_type": "code",
   "execution_count": 28,
   "id": "230a3a01",
   "metadata": {},
   "outputs": [],
   "source": [
    "from sklearn.feature_extraction.text import CountVectorizer\n",
    "cv = CountVectorizer()\n",
    "x = cv.fit_transform(corpus).toarray()"
   ]
  },
  {
   "cell_type": "code",
   "execution_count": 29,
   "id": "c535db53",
   "metadata": {
    "collapsed": true
   },
   "outputs": [
    {
     "data": {
      "text/plain": [
       "array([[1, 0, 0, 0, 0, 0, 1, 0, 0, 0, 0, 1, 0, 1, 0, 0, 0, 0, 0, 0, 0, 0,\n",
       "        0, 0, 0, 1, 0, 0, 0, 0, 0, 0, 0, 0, 0, 1, 0, 0, 0, 0, 0, 1, 0, 0,\n",
       "        0, 0, 0, 0, 0, 0, 1, 0, 0, 0, 0, 0, 0, 0, 0, 0, 0],\n",
       "       [0, 0, 0, 0, 0, 1, 0, 0, 0, 0, 1, 0, 0, 1, 1, 0, 0, 0, 0, 0, 0, 1,\n",
       "        0, 0, 1, 0, 0, 0, 1, 0, 1, 0, 0, 1, 0, 0, 0, 0, 0, 0, 0, 0, 0, 1,\n",
       "        0, 0, 0, 0, 0, 0, 0, 1, 1, 0, 0, 0, 0, 0, 0, 0, 0],\n",
       "       [0, 0, 0, 1, 0, 0, 0, 0, 0, 0, 0, 0, 0, 0, 0, 0, 0, 0, 0, 1, 0, 0,\n",
       "        0, 0, 0, 0, 0, 0, 0, 0, 0, 0, 0, 0, 1, 0, 0, 0, 0, 0, 0, 0, 0, 0,\n",
       "        0, 0, 0, 0, 0, 0, 0, 0, 0, 0, 1, 0, 0, 0, 0, 0, 0],\n",
       "       [0, 0, 0, 0, 0, 0, 0, 0, 1, 0, 0, 0, 0, 1, 0, 0, 1, 0, 0, 0, 0, 0,\n",
       "        0, 0, 0, 1, 0, 0, 0, 0, 0, 0, 0, 0, 0, 0, 0, 1, 0, 0, 0, 0, 0, 0,\n",
       "        0, 0, 1, 0, 0, 0, 0, 0, 0, 0, 0, 0, 0, 0, 0, 0, 1],\n",
       "       [0, 0, 1, 0, 0, 0, 0, 0, 0, 0, 0, 0, 0, 0, 0, 0, 0, 0, 0, 0, 0, 0,\n",
       "        0, 0, 0, 1, 1, 1, 0, 0, 0, 0, 0, 0, 0, 0, 0, 0, 0, 0, 0, 0, 1, 0,\n",
       "        0, 0, 0, 0, 0, 0, 0, 0, 0, 0, 0, 1, 1, 0, 1, 1, 0],\n",
       "       [0, 0, 0, 0, 0, 0, 0, 1, 0, 1, 0, 0, 1, 0, 0, 1, 0, 1, 0, 0, 1, 0,\n",
       "        0, 0, 0, 0, 0, 0, 0, 0, 0, 1, 0, 0, 0, 0, 0, 0, 1, 1, 1, 0, 0, 0,\n",
       "        0, 0, 0, 0, 1, 0, 0, 0, 0, 0, 1, 0, 0, 1, 0, 0, 0],\n",
       "       [0, 0, 0, 0, 1, 0, 0, 0, 0, 0, 0, 0, 0, 1, 0, 0, 0, 0, 1, 0, 0, 0,\n",
       "        1, 0, 0, 1, 0, 0, 0, 1, 0, 0, 1, 0, 0, 0, 0, 0, 0, 0, 0, 0, 0, 0,\n",
       "        1, 0, 0, 1, 0, 0, 0, 0, 0, 0, 0, 0, 0, 0, 0, 0, 0],\n",
       "       [0, 1, 0, 0, 0, 0, 0, 0, 0, 0, 0, 0, 0, 1, 0, 0, 0, 0, 0, 0, 0, 0,\n",
       "        0, 1, 0, 1, 0, 0, 0, 0, 0, 0, 0, 0, 0, 0, 1, 0, 0, 0, 0, 0, 0, 0,\n",
       "        0, 1, 0, 0, 0, 1, 0, 0, 0, 1, 0, 0, 0, 0, 0, 0, 0]], dtype=int64)"
      ]
     },
     "execution_count": 29,
     "metadata": {},
     "output_type": "execute_result"
    }
   ],
   "source": [
    "x"
   ]
  },
  {
   "cell_type": "code",
   "execution_count": 30,
   "id": "eedfb986",
   "metadata": {},
   "outputs": [],
   "source": [
    "from sklearn.feature_extraction.text import TfidfVectorizer\n",
    "\n",
    "cv = TfidfVectorizer()\n",
    "x = cv.fit_transform(corpus).toarray()"
   ]
  },
  {
   "cell_type": "code",
   "execution_count": 31,
   "id": "fe618530",
   "metadata": {
    "collapsed": true
   },
   "outputs": [
    {
     "data": {
      "text/plain": [
       "array([[0.38836637, 0.        , 0.        , 0.        , 0.        ,\n",
       "        0.        , 0.38836637, 0.        , 0.        , 0.        ,\n",
       "        0.        , 0.38836637, 0.        , 0.21797864, 0.        ,\n",
       "        0.        , 0.        , 0.        , 0.        , 0.        ,\n",
       "        0.        , 0.        , 0.        , 0.        , 0.        ,\n",
       "        0.21797864, 0.        , 0.        , 0.        , 0.        ,\n",
       "        0.        , 0.        , 0.        , 0.        , 0.        ,\n",
       "        0.38836637, 0.        , 0.        , 0.        , 0.        ,\n",
       "        0.        , 0.38836637, 0.        , 0.        , 0.        ,\n",
       "        0.        , 0.        , 0.        , 0.        , 0.        ,\n",
       "        0.38836637, 0.        , 0.        , 0.        , 0.        ,\n",
       "        0.        , 0.        , 0.        , 0.        , 0.        ,\n",
       "        0.        ],\n",
       "       [0.        , 0.        , 0.        , 0.        , 0.        ,\n",
       "        0.29728449, 0.        , 0.        , 0.        , 0.        ,\n",
       "        0.29728449, 0.        , 0.        , 0.16685705, 0.29728449,\n",
       "        0.        , 0.        , 0.        , 0.        , 0.        ,\n",
       "        0.        , 0.29728449, 0.        , 0.        , 0.29728449,\n",
       "        0.        , 0.        , 0.        , 0.29728449, 0.        ,\n",
       "        0.29728449, 0.        , 0.        , 0.29728449, 0.        ,\n",
       "        0.        , 0.        , 0.        , 0.        , 0.        ,\n",
       "        0.        , 0.        , 0.        , 0.29728449, 0.        ,\n",
       "        0.        , 0.        , 0.        , 0.        , 0.        ,\n",
       "        0.        , 0.29728449, 0.29728449, 0.        , 0.        ,\n",
       "        0.        , 0.        , 0.        , 0.        , 0.        ,\n",
       "        0.        ],\n",
       "       [0.        , 0.        , 0.        , 0.51970849, 0.        ,\n",
       "        0.        , 0.        , 0.        , 0.        , 0.        ,\n",
       "        0.        , 0.        , 0.        , 0.        , 0.        ,\n",
       "        0.        , 0.        , 0.        , 0.        , 0.51970849,\n",
       "        0.        , 0.        , 0.        , 0.        , 0.        ,\n",
       "        0.        , 0.        , 0.        , 0.        , 0.        ,\n",
       "        0.        , 0.        , 0.        , 0.        , 0.51970849,\n",
       "        0.        , 0.        , 0.        , 0.        , 0.        ,\n",
       "        0.        , 0.        , 0.        , 0.        , 0.        ,\n",
       "        0.        , 0.        , 0.        , 0.        , 0.        ,\n",
       "        0.        , 0.        , 0.        , 0.        , 0.43555627,\n",
       "        0.        , 0.        , 0.        , 0.        , 0.        ,\n",
       "        0.        ],\n",
       "       [0.        , 0.        , 0.        , 0.        , 0.        ,\n",
       "        0.        , 0.        , 0.        , 0.4214479 , 0.        ,\n",
       "        0.        , 0.        , 0.        , 0.23654633, 0.        ,\n",
       "        0.        , 0.4214479 , 0.        , 0.        , 0.        ,\n",
       "        0.        , 0.        , 0.        , 0.        , 0.        ,\n",
       "        0.23654633, 0.        , 0.        , 0.        , 0.        ,\n",
       "        0.        , 0.        , 0.        , 0.        , 0.        ,\n",
       "        0.        , 0.        , 0.4214479 , 0.        , 0.        ,\n",
       "        0.        , 0.        , 0.        , 0.        , 0.        ,\n",
       "        0.        , 0.4214479 , 0.        , 0.        , 0.        ,\n",
       "        0.        , 0.        , 0.        , 0.        , 0.        ,\n",
       "        0.        , 0.        , 0.        , 0.        , 0.        ,\n",
       "        0.4214479 ],\n",
       "       [0.        , 0.        , 0.34679133, 0.        , 0.        ,\n",
       "        0.        , 0.        , 0.        , 0.        , 0.        ,\n",
       "        0.        , 0.        , 0.        , 0.        , 0.        ,\n",
       "        0.        , 0.        , 0.        , 0.        , 0.        ,\n",
       "        0.        , 0.        , 0.        , 0.        , 0.        ,\n",
       "        0.19464379, 0.34679133, 0.34679133, 0.        , 0.        ,\n",
       "        0.        , 0.        , 0.        , 0.        , 0.        ,\n",
       "        0.        , 0.        , 0.        , 0.        , 0.        ,\n",
       "        0.        , 0.        , 0.34679133, 0.        , 0.        ,\n",
       "        0.        , 0.        , 0.        , 0.        , 0.        ,\n",
       "        0.        , 0.        , 0.        , 0.        , 0.        ,\n",
       "        0.34679133, 0.34679133, 0.        , 0.34679133, 0.34679133,\n",
       "        0.        ],\n",
       "       [0.        , 0.        , 0.        , 0.        , 0.        ,\n",
       "        0.        , 0.        , 0.28058053, 0.        , 0.28058053,\n",
       "        0.        , 0.        , 0.28058053, 0.        , 0.        ,\n",
       "        0.28058053, 0.        , 0.28058053, 0.        , 0.        ,\n",
       "        0.28058053, 0.        , 0.        , 0.        , 0.        ,\n",
       "        0.        , 0.        , 0.        , 0.        , 0.        ,\n",
       "        0.        , 0.28058053, 0.        , 0.        , 0.        ,\n",
       "        0.        , 0.        , 0.        , 0.28058053, 0.28058053,\n",
       "        0.28058053, 0.        , 0.        , 0.        , 0.        ,\n",
       "        0.        , 0.        , 0.        , 0.28058053, 0.        ,\n",
       "        0.        , 0.        , 0.        , 0.        , 0.23514839,\n",
       "        0.        , 0.        , 0.28058053, 0.        , 0.        ,\n",
       "        0.        ],\n",
       "       [0.        , 0.        , 0.        , 0.        , 0.36202313,\n",
       "        0.        , 0.        , 0.        , 0.        , 0.        ,\n",
       "        0.        , 0.        , 0.        , 0.20319295, 0.        ,\n",
       "        0.        , 0.        , 0.        , 0.36202313, 0.        ,\n",
       "        0.        , 0.        , 0.36202313, 0.        , 0.        ,\n",
       "        0.20319295, 0.        , 0.        , 0.        , 0.36202313,\n",
       "        0.        , 0.        , 0.36202313, 0.        , 0.        ,\n",
       "        0.        , 0.        , 0.        , 0.        , 0.        ,\n",
       "        0.        , 0.        , 0.        , 0.        , 0.36202313,\n",
       "        0.        , 0.        , 0.36202313, 0.        , 0.        ,\n",
       "        0.        , 0.        , 0.        , 0.        , 0.        ,\n",
       "        0.        , 0.        , 0.        , 0.        , 0.        ,\n",
       "        0.        ],\n",
       "       [0.        , 0.38836637, 0.        , 0.        , 0.        ,\n",
       "        0.        , 0.        , 0.        , 0.        , 0.        ,\n",
       "        0.        , 0.        , 0.        , 0.21797864, 0.        ,\n",
       "        0.        , 0.        , 0.        , 0.        , 0.        ,\n",
       "        0.        , 0.        , 0.        , 0.38836637, 0.        ,\n",
       "        0.21797864, 0.        , 0.        , 0.        , 0.        ,\n",
       "        0.        , 0.        , 0.        , 0.        , 0.        ,\n",
       "        0.        , 0.38836637, 0.        , 0.        , 0.        ,\n",
       "        0.        , 0.        , 0.        , 0.        , 0.        ,\n",
       "        0.38836637, 0.        , 0.        , 0.        , 0.38836637,\n",
       "        0.        , 0.        , 0.        , 0.38836637, 0.        ,\n",
       "        0.        , 0.        , 0.        , 0.        , 0.        ,\n",
       "        0.        ]])"
      ]
     },
     "execution_count": 31,
     "metadata": {},
     "output_type": "execute_result"
    }
   ],
   "source": [
    "x"
   ]
  },
  {
   "cell_type": "code",
   "execution_count": 32,
   "id": "60a63b74",
   "metadata": {},
   "outputs": [],
   "source": [
    "from gensim.models import Word2Vec"
   ]
  },
  {
   "cell_type": "code",
   "execution_count": 33,
   "id": "17a2895e",
   "metadata": {},
   "outputs": [],
   "source": [
    "#preprocessing the data\n",
    "\n",
    "text = re.sub(r'\\[[0-9]*\\]', ' ', para)\n",
    "text = re.sub(r'\\s+', ' ', text)\n",
    "text = text.lower()\n",
    "text = re.sub(r'\\d', ' ', text)\n",
    "text = re.sub(r'\\s+', ' ', text)\n"
   ]
  },
  {
   "cell_type": "code",
   "execution_count": 35,
   "id": "93abd047",
   "metadata": {},
   "outputs": [],
   "source": [
    "sentences = nltk.sent_tokenize(text)\n",
    "\n",
    "sentences = [nltk.word_tokenize(sentence) for sentence in sentences]\n",
    "\n",
    "for i in range(len(sentences)):\n",
    "    sentences[i] = [word for word in sentences[i] if word not in stopwords.words('english')]\n",
    "\n"
   ]
  },
  {
   "cell_type": "code",
   "execution_count": 47,
   "id": "48a52be1",
   "metadata": {},
   "outputs": [],
   "source": [
    "model = Word2Vec(sentences, min_count=1)\n",
    "\n",
    "words = model.wv.index_to_key\n",
    "\n",
    "vector = model.wv['family']\n",
    "\n",
    "similar = model.wv.most_similar('family')"
   ]
  },
  {
   "cell_type": "code",
   "execution_count": 48,
   "id": "e7148beb",
   "metadata": {},
   "outputs": [
    {
     "data": {
      "text/plain": [
       "array([-8.2370406e-03,  9.3296450e-03, -1.9822012e-04, -1.9443157e-03,\n",
       "        4.5740190e-03, -4.1388380e-03,  2.7949121e-03,  6.9759577e-03,\n",
       "        6.0637575e-03, -7.5613828e-03,  9.3733668e-03,  4.6398924e-03,\n",
       "        3.9736610e-03, -6.2306989e-03,  8.4812650e-03, -2.1616959e-03,\n",
       "        8.8310391e-03, -5.3536729e-03, -8.1465244e-03,  6.7958734e-03,\n",
       "        1.7084298e-03, -2.1846087e-03,  9.5213559e-03,  9.4996300e-03,\n",
       "       -9.7850636e-03,  2.4978202e-03,  6.1178165e-03,  3.8467243e-03,\n",
       "        2.0034800e-03,  4.2993523e-04,  7.0274691e-04, -3.7919104e-03,\n",
       "       -7.1029416e-03, -2.1304097e-03,  3.9437804e-03,  8.8379364e-03,\n",
       "        9.2822891e-03, -5.9485766e-03, -9.4395094e-03,  9.7605055e-03,\n",
       "        3.4402939e-03,  5.1469058e-03,  6.2662507e-03, -2.8039396e-03,\n",
       "        7.3420065e-03,  2.7846354e-03,  2.8590383e-03, -2.4119117e-03,\n",
       "       -3.0838603e-03, -2.3656725e-03,  4.2855805e-03,  4.0207913e-05,\n",
       "       -9.5755244e-03, -9.7091943e-03, -6.1553055e-03, -1.2290425e-04,\n",
       "        2.0170163e-03,  9.4153816e-03,  5.5594975e-03, -4.2605731e-03,\n",
       "        3.0801518e-04,  4.9764528e-03,  7.7139274e-03, -1.1375665e-03,\n",
       "        4.3131853e-03, -5.7853637e-03, -8.3045207e-04,  8.1246020e-03,\n",
       "       -2.3872398e-03, -9.6770972e-03,  5.7751010e-03, -3.9227107e-03,\n",
       "       -1.1837995e-03,  9.9882754e-03, -2.1972226e-03, -4.7537265e-03,\n",
       "       -5.3199246e-03,  6.9823461e-03, -5.7332213e-03,  2.1172918e-03,\n",
       "       -5.2804709e-03,  6.1077289e-03,  4.3300739e-03,  2.6324294e-03,\n",
       "       -1.5116989e-03, -2.7710889e-03,  9.0507790e-03,  5.2353423e-03,\n",
       "       -2.1528138e-03, -9.4622541e-03, -7.3780036e-03, -1.0507501e-03,\n",
       "       -8.0086134e-04, -2.5619131e-03,  9.7242752e-03, -4.5869031e-04,\n",
       "        5.8793449e-03, -7.4587548e-03, -2.5354482e-03, -5.5651688e-03],\n",
       "      dtype=float32)"
      ]
     },
     "execution_count": 48,
     "metadata": {},
     "output_type": "execute_result"
    }
   ],
   "source": [
    "vector"
   ]
  },
  {
   "cell_type": "code",
   "execution_count": 49,
   "id": "b3d02d1e",
   "metadata": {},
   "outputs": [
    {
     "data": {
      "text/plain": [
       "[('mother', 0.17878393828868866),\n",
       " ('newspapers', 0.16436806321144104),\n",
       " ('become', 0.14979305863380432),\n",
       " ('pilgrims', 0.13559643924236298),\n",
       " ('time', 0.13246169686317444),\n",
       " ('business', 0.12260954082012177),\n",
       " ('pamban', 0.09738108515739441),\n",
       " ('dr.', 0.0775262638926506),\n",
       " ('hard', 0.07751474529504776),\n",
       " ('vast', 0.07702312618494034)]"
      ]
     },
     "execution_count": 49,
     "metadata": {},
     "output_type": "execute_result"
    }
   ],
   "source": [
    "similar"
   ]
  },
  {
   "cell_type": "code",
   "execution_count": null,
   "id": "8d35f32f",
   "metadata": {},
   "outputs": [],
   "source": []
  }
 ],
 "metadata": {
  "kernelspec": {
   "display_name": "Python 3 (ipykernel)",
   "language": "python",
   "name": "python3"
  },
  "language_info": {
   "codemirror_mode": {
    "name": "ipython",
    "version": 3
   },
   "file_extension": ".py",
   "mimetype": "text/x-python",
   "name": "python",
   "nbconvert_exporter": "python",
   "pygments_lexer": "ipython3",
   "version": "3.9.13"
  }
 },
 "nbformat": 4,
 "nbformat_minor": 5
}
